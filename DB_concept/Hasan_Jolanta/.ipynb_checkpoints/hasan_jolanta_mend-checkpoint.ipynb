{
 "cells": [
  {
   "cell_type": "code",
   "execution_count": 1,
   "metadata": {},
   "outputs": [],
   "source": [
    "import numpy as np\n",
    "import pandas as pd\n",
    "from scipy.integrate import odeint\n",
    "from scipy.optimize import differential_evolution"
   ]
  },
  {
   "cell_type": "code",
   "execution_count": 2,
   "metadata": {},
   "outputs": [
    {
     "name": "stdout",
     "output_type": "stream",
     "text": [
      "   Soil Status   time   G12  G12init  G13  G13init  CO212  CO213      DOC12  \\\n",
      "0    PL      A    0.1  72.3     97.7  2.0      2.7    0.7    0.0  22.100000   \n",
      "1    PL      A   12.0  14.0     97.7  0.4      2.7   22.1    0.5        NaN   \n",
      "2    PL      A   24.0   0.3     97.7  0.0      2.7   36.1    0.9  21.204962   \n",
      "3    PL      A   48.0   0.2     97.7  0.0      2.7   50.3    1.1  19.468059   \n",
      "4    PL      A   72.0   0.0     97.7  0.0      2.7   61.3    1.3  19.662000   \n",
      "5    CT      A    0.1  64.0     89.0  1.8      2.5    0.5    0.0  18.577000   \n",
      "6    CT      A   12.0  29.7     89.0  0.8      2.5   10.3    0.2        NaN   \n",
      "7    CT      A   24.0   5.3     89.0  0.1      2.5   20.8    0.5  21.628389   \n",
      "8    CT      A   48.0   0.2     89.0  0.0      2.5   37.9    0.9  18.054769   \n",
      "9    CT      A   72.0   0.0     89.0  0.0      2.5   44.5    1.1  17.284000   \n",
      "10   PL      N    0.1  78.0    105.3  2.1      2.9    0.2    0.0        NaN   \n",
      "11   PL      N   12.0  74.4    105.3  2.0      2.9    1.8    0.0        NaN   \n",
      "12   PL      N   24.0  77.4    105.3  2.1      2.9    2.4    0.0        NaN   \n",
      "13   PL      N   48.0  72.2    105.3  2.0      2.9    4.1    0.1        NaN   \n",
      "14   PL      N  216.0  46.5    105.3  1.3      2.9   10.4    0.2        NaN   \n",
      "15   CT      N    0.1  63.8     88.6  1.8      2.4    0.2    0.0        NaN   \n",
      "16   CT      N   12.0  62.4     88.6  1.7      2.4    1.7    0.0        NaN   \n",
      "17   CT      N   24.0  58.6     88.6  1.6      2.4    3.3    0.1        NaN   \n",
      "18   CT      N   48.0  52.1     88.6  1.4      2.4    4.9    0.1        NaN   \n",
      "19   CT      N  216.0  19.8     88.6  0.5      2.4   12.8    0.3        NaN   \n",
      "\n",
      "    ...  WOC12init  WOC13init    Cmic12    Cmic13  Cmic12init  Cmic13init  \\\n",
      "0   ...  40.884047   0.410933  55.08784  0.606621    55.08784    0.606621   \n",
      "1   ...  40.884047   0.410933       NaN       NaN    55.08784    0.606621   \n",
      "2   ...  40.884047   0.410933  64.76910  1.039313    55.08784    0.606621   \n",
      "3   ...  40.884047   0.410933  68.17200  1.034506    55.08784    0.606621   \n",
      "4   ...  40.884047   0.410933  65.72176  0.983821    55.08784    0.606621   \n",
      "5   ...  41.722519   0.419873  57.29944  0.629035    57.29944    0.629035   \n",
      "6   ...  41.722519   0.419873       NaN       NaN    57.29944    0.629035   \n",
      "7   ...  41.722519   0.419873  66.49810  1.111746    57.29944    0.629035   \n",
      "8   ...  41.722519   0.419873  83.44838  1.293909    57.29944    0.629035   \n",
      "9   ...  41.722519   0.419873  77.85516  1.184211    57.29944    0.629035   \n",
      "10  ...        NaN        NaN       NaN       NaN         NaN         NaN   \n",
      "11  ...        NaN        NaN       NaN       NaN         NaN         NaN   \n",
      "12  ...        NaN        NaN       NaN       NaN         NaN         NaN   \n",
      "13  ...        NaN        NaN       NaN       NaN         NaN         NaN   \n",
      "14  ...        NaN        NaN       NaN       NaN         NaN         NaN   \n",
      "15  ...        NaN        NaN       NaN       NaN         NaN         NaN   \n",
      "16  ...        NaN        NaN       NaN       NaN         NaN         NaN   \n",
      "17  ...        NaN        NaN       NaN       NaN         NaN         NaN   \n",
      "18  ...        NaN        NaN       NaN       NaN         NaN         NaN   \n",
      "19  ...        NaN        NaN       NaN       NaN         NaN         NaN   \n",
      "\n",
      "     OA12  OA13  OA12init  OA13init  \n",
      "0    0.17  0.00      0.17      0.00  \n",
      "1     NaN   NaN      0.17      0.00  \n",
      "2    0.39  0.01      0.17      0.00  \n",
      "3    0.38  0.01      0.17      0.00  \n",
      "4    0.74  0.02      0.17      0.00  \n",
      "5    0.16  0.00      0.17      0.00  \n",
      "6     NaN   NaN      0.17      0.00  \n",
      "7    0.10  0.00      0.17      0.00  \n",
      "8    0.53  0.01      0.17      0.00  \n",
      "9    0.44  0.01      0.17      0.00  \n",
      "10   4.90  0.06      5.34      0.06  \n",
      "11    NaN   NaN      5.34      0.06  \n",
      "12   5.27  0.09      5.34      0.06  \n",
      "13   6.58  0.11      5.34      0.06  \n",
      "14  10.79  0.19      5.34      0.06  \n",
      "15   0.41  0.00      0.34      0.00  \n",
      "16    NaN   NaN      0.34      0.00  \n",
      "17   1.48  0.03      0.34      0.00  \n",
      "18   2.57  0.05      0.34      0.00  \n",
      "19  15.60  0.34      0.34      0.00  \n",
      "\n",
      "[20 rows x 25 columns]\n"
     ]
    }
   ],
   "source": [
    "#read data\n",
    "d = pd.read_csv('C:/Users/cape159/Documents/pracovni/data_statistika/kopackuv_grant/mixing_experiment/DB_concept/Hasan_Jolanta/hasan_jolanta.csv')\n",
    "\n",
    "print(d)"
   ]
  },
  {
   "cell_type": "code",
   "execution_count": 3,
   "metadata": {},
   "outputs": [],
   "source": [
    "# define DB model\n",
    "def Constmodel (y, t, pars):\n",
    "    #define initial states\n",
    "    MBC12=y[0];    G12=y[1];   DOC12=y[2];   CO212=y[3]\n",
    "    MBC13=y[4];    G13=y[5];   DOC13=y[6];   CO213=y[7]\n",
    "        \n",
    "    #define parameters\n",
    "    Vmaxg=pars[0];     Kmg=pars[1] \n",
    "    Vmax=pars[2];      Km=pars[3]\n",
    "    m0=pars[4];        CUEg=pars[5];      CUEs=pars[6]\n",
    "    kb=pars[7];        kec=pars[8]\n",
    "        \n",
    "    \n",
    "    #G uptake rate total\n",
    "    Cug_tot=(Vmaxg+m0)*(MBC12+MBC13)*(G12+G13)/(G12+G13+Kmg*(1+(DOC12+DOC13)/Km))/CUEg\n",
    "        \n",
    "    #DOC uptake rate total\n",
    "    Cu_tot=(Vmax+mo)*(MBC12+MBC13)*(DOC12+DOC13)/(DOC12+DOC13+Km*(1+(G12+G13)/Kmg))\n",
    "        \n",
    "    #define 13C atm% scaling factors\n",
    "    Gatm=G13/(G12+G13)\n",
    "    DOCatm=DOC13/(DOC12+DOC13)\n",
    "    \n",
    "    #derivatives\n",
    "    dMBC12dt=CUEg*Cug_tot*(1-Gatm)+CUEs*Cu_tot*(1-DOCatm)-kb*MBC12-m0*MBC12\n",
    "    dG12dt=-Cug_tot*(1-Gatm)\n",
    "    dDOC12dt=-Cu_tot*(1-DOCatm)+kb*kec*MBC12\n",
    "    dCO212dt=(1-CUEg)*Cug_tot*(1-Gatm)+(1-CUEs)*Cu_tot*(1-DOCatm)+m0*MBC12\n",
    "    dMBC13dt=CUEg*Cug_tot*Gatm+CUEs*Cu_tot*DOCatm-kb*MBC13-m0*MBC13\n",
    "    dG13dt=-Cug_tot*Gatm\n",
    "    dDOC13dt=-Cu_tot*DOCatm+kb*kec*MBC13\n",
    "    dCO213dt=(1-CUEg)*Cug_tot*Gatm+(1-CUEs)*Cu_tot*DOCatm+m0*MBC13\n",
    "    \n",
    "            \n",
    "    return dMBC12dt, dG12dt, dDOC12dt, dCO212dt, dMBC13dt, dG13dt, dDOC13dt, dCO213dt;"
   ]
  },
  {
   "cell_type": "code",
   "execution_count": 4,
   "metadata": {},
   "outputs": [],
   "source": [
    "#define a function returning ode results with additional calculations\n",
    "def calc (model, pars, t, y0):\n",
    "    #first solve the model\n",
    "    y = odeint(model,y0,t, args=(pars,))\n",
    "    #calculate Cmic12 and add it to y frame\n",
    "    Cmic12 = pars[8] * y[:, 0]\n",
    "    #calculate Cmic13 and add it to y frame\n",
    "    Cmic13 = pars[8] * y[:, 4]\n",
    "    \n",
    "    yhat = np.concatenate((y[:, 1].reshape(5,1),#G12\n",
    "                           y[:, 2].reshape(5,1),#DOC12\n",
    "                           y[:, 3].reshape(5,1),#CO212\n",
    "                           y[:, 5].reshape(5,1),#G13\n",
    "                           y[:, 6].reshape(5,1),#DOC13\n",
    "                           y[:, 7].reshape(5,1),#CO213\n",
    "                           Cmic12.reshape(5,1),\n",
    "                           Cmic13.reshape(5,1)), axis=1)\n",
    "    \n",
    "    return yhat"
   ]
  },
  {
   "cell_type": "code",
   "execution_count": 5,
   "metadata": {},
   "outputs": [],
   "source": [
    "#create the minimization function\n",
    "def obj_fun (x):\n",
    "    #define parameters\n",
    "    pars = x\n",
    "    \n",
    "    #initial conditions\n",
    "    MBC12init = data.Cmic12init[0]/pars[8]\n",
    "    G12init = data.G12init[0]\n",
    "    DOC12init = data.DOC12init[0]\n",
    "    MBC13init = data.Cmic13init[0]/pars[8]\n",
    "    G13init = data.G13init[0]\n",
    "    DOC13init = data.DOC13init[0]\n",
    "    \n",
    "    y0 = np.array([MBC12init, G12init, DOC12init,0,\n",
    "                   MBC13init, G13init, DOC13init,0])\n",
    "    \n",
    "    #times\n",
    "    t = data.time\n",
    "    \n",
    "    #use the function to get DOC, respiration rate and Cmic\n",
    "    yhat_full = calc(Constmodel, pars, t, y0)\n",
    "         \n",
    "    #observations\n",
    "    obs=np.concatenate((np.array([data.G12]).reshape(5,1),\n",
    "                        np.array([data.DOC12]).reshape(5,1),\n",
    "                        np.array([data.CO212]).reshape(5,1),\n",
    "                        np.array([data.G13]).reshape(5,1),\n",
    "                        np.array([data.DOC13]).reshape(5,1),\n",
    "                        np.array([data.CO213]).reshape(5,1),\n",
    "                        np.array([data.Cmic12]).reshape(5,1),\n",
    "                        np.array([data.Cmic13]).reshape(5,1)), \n",
    "                     axis=1)\n",
    "    \n",
    "    #weights\n",
    "    weights=np.concatenate((np.nanmean(data.G12).repeat(5).reshape(5,1),\n",
    "                            np.nanmean(data.DOC12).repeat(5).reshape(5,1),\n",
    "                            np.nanmean(data.CO212).repeat(5).reshape(5,1),\n",
    "                            np.nanmean(data.G13).repeat(5).reshape(5,1),\n",
    "                            np.nanmean(data.DOC13).repeat(5).reshape(5,1),\n",
    "                            np.nanmean(data.CO213).repeat(5).reshape(5,1),\n",
    "                            np.nanmean(data.Cmic12/5).repeat(5).reshape(5,1),\n",
    "                            np.nanmean(data.Cmic13).repeat(5).reshape(5,1)), \n",
    "                       axis=1)\n",
    "                \n",
    "          \n",
    "    out=np.nansum(((yhat_full-obs)/weights)**2)\n",
    "          \n",
    "    return out"
   ]
  },
  {
   "cell_type": "code",
   "execution_count": 6,
   "metadata": {},
   "outputs": [],
   "source": [
    "#create goodness of fit function\n",
    "def goodness (x):\n",
    "    #define parameters\n",
    "    pars = x\n",
    "    \n",
    "    #initial conditions\n",
    "    MBC12init = data.Cmic12init[0]/pars[8]\n",
    "    G12init = data.G12init[0]\n",
    "    DOC12init = data.DOC12init[0]\n",
    "    MBC13init = data.Cmic13init[0]/pars[8]\n",
    "    G13init = data.G13init[0]\n",
    "    DOC13init = data.DOC13init[0]\n",
    "    \n",
    "    y0 = np.array([MBC12init, G12init, DOC12init,0,\n",
    "                   MBC13init, G13init, DOC13init,0])\n",
    "    \n",
    "    #times\n",
    "    t = data.time\n",
    "    \n",
    "    #use the function to get DOC, respiration rate and Cmic\n",
    "    yhat_full = calc(Constmodel, pars, t, y0)\n",
    "         \n",
    "    #observations\n",
    "    obs=np.concatenate((np.array([data.G12]).reshape(5,1),\n",
    "                        np.array([data.DOC12]).reshape(5,1),\n",
    "                        np.array([data.CO212]).reshape(5,1),\n",
    "                        np.array([data.G13]).reshape(5,1),\n",
    "                        np.array([data.DOC13]).reshape(5,1),\n",
    "                        np.array([data.CO213]).reshape(5,1),\n",
    "                        np.array([data.Cmic12]).reshape(5,1),\n",
    "                        np.array([data.Cmic13]).reshape(5,1)), \n",
    "                     axis=1)                \n",
    "          \n",
    "    R2=1-np.nansum((obs-yhat_full)**2)/np.nansum((obs-np.nanmean(obs))**2)\n",
    "    ll=-np.nansum((obs-yhat_full)**2)/2/np.nanstd(obs)**2\n",
    "    AIC = 2*13 - 2*ll\n",
    "    \n",
    "    out = np.array([R2, ll, AIC])\n",
    "          \n",
    "    return out"
   ]
  },
  {
   "cell_type": "code",
   "execution_count": 7,
   "metadata": {},
   "outputs": [
    {
     "name": "stdout",
     "output_type": "stream",
     "text": [
      "     fun: 4.526107685338233\n",
      "     jac: array([-1.31233691e-02,  1.96287431e-05,  1.34736666e-04, -3.55271368e-07,\n",
      "        4.02682332e-03, -9.39559541e-03, -5.00168795e-03,  1.06518537e+02,\n",
      "       -1.01542774e-02])\n",
      " message: 'Optimization terminated successfully.'\n",
      "    nfev: 11315\n",
      "     nit: 80\n",
      " success: True\n",
      "       x: array([2.31001545e-01, 3.47054487e+02, 3.69199613e-03, 4.11430082e+02,\n",
      "       1.66102790e-03, 7.48173036e-01, 5.92834380e-01, 1.00000000e-04,\n",
      "       2.24418268e-01])\n"
     ]
    }
   ],
   "source": [
    "#Plesne aerobni\n",
    "data = d[(d.Soil=='PL') & (d.Status=='A')]\n",
    "data = data.reset_index(drop=True)\n",
    "\n",
    "optimum_PA=differential_evolution(obj_fun, [(0.0001, 1), (0.1, 500), \n",
    "                                            (0.0001, 1), (0.1, 500),\n",
    "                                            (0.0001, 1), (0.05, 0.9), (0.05, 0.9), \n",
    "                                            (0.0001, 1), (0,1)], \n",
    "                                  polish=True, maxiter=1000000)\n",
    "\n",
    "print(optimum_PA)"
   ]
  },
  {
   "cell_type": "code",
   "execution_count": 12,
   "metadata": {},
   "outputs": [
    {
     "name": "stdout",
     "output_type": "stream",
     "text": [
      "[ 0.90014687 -1.79735634 29.59471267]\n"
     ]
    }
   ],
   "source": [
    "print(goodness(optimum_PA.x))\n",
    "np.savetxt('PL_const.csv', optimum_PA.x.reshape(1,9), delimiter=\",\")"
   ]
  },
  {
   "cell_type": "code",
   "execution_count": 9,
   "metadata": {},
   "outputs": [
    {
     "name": "stderr",
     "output_type": "stream",
     "text": [
      "C:\\Users\\cape159\\AppData\\Local\\Continuum\\anaconda3\\lib\\site-packages\\scipy\\integrate\\odepack.py:247: ODEintWarning: Excess work done on this call (perhaps wrong Dfun type). Run with full_output = 1 to get quantitative information.\n",
      "  warnings.warn(warning_msg, ODEintWarning)\n"
     ]
    },
    {
     "name": "stdout",
     "output_type": "stream",
     "text": [
      "     fun: 4.778794023050808\n",
      " message: 'Optimization terminated successfully.'\n",
      "    nfev: 15285\n",
      "     nit: 112\n",
      " success: True\n",
      "       x: array([2.07123686e-01, 3.36178462e+02, 1.40042302e-03, 1.68742502e+02,\n",
      "       1.80411956e-03, 8.08396450e-01, 8.39345007e-01, 1.03615811e-04,\n",
      "       3.58308013e-01])\n"
     ]
    },
    {
     "name": "stderr",
     "output_type": "stream",
     "text": [
      "C:\\Users\\cape159\\AppData\\Local\\Continuum\\anaconda3\\lib\\site-packages\\ipykernel_launcher.py:7: RuntimeWarning: divide by zero encountered in double_scalars\n",
      "  import sys\n",
      "C:\\Users\\cape159\\AppData\\Local\\Continuum\\anaconda3\\lib\\site-packages\\ipykernel_launcher.py:10: RuntimeWarning: divide by zero encountered in double_scalars\n",
      "  # Remove the CWD from sys.path while we load stuff.\n",
      "C:\\Users\\cape159\\AppData\\Local\\Continuum\\anaconda3\\lib\\site-packages\\ipykernel_launcher.py:25: RuntimeWarning: invalid value encountered in double_scalars\n",
      "C:\\Users\\cape159\\AppData\\Local\\Continuum\\anaconda3\\lib\\site-packages\\ipykernel_launcher.py:27: RuntimeWarning: invalid value encountered in double_scalars\n",
      "C:\\Users\\cape159\\AppData\\Local\\Continuum\\anaconda3\\lib\\site-packages\\ipykernel_launcher.py:29: RuntimeWarning: invalid value encountered in double_scalars\n",
      "C:\\Users\\cape159\\AppData\\Local\\Continuum\\anaconda3\\lib\\site-packages\\ipykernel_launcher.py:31: RuntimeWarning: invalid value encountered in double_scalars\n",
      "C:\\Users\\cape159\\AppData\\Local\\Continuum\\anaconda3\\lib\\site-packages\\scipy\\integrate\\odepack.py:247: ODEintWarning: Illegal input detected (internal error). Run with full_output = 1 to get quantitative information.\n",
      "  warnings.warn(warning_msg, ODEintWarning)\n",
      "C:\\Users\\cape159\\AppData\\Local\\Continuum\\anaconda3\\lib\\site-packages\\ipykernel_launcher.py:6: RuntimeWarning: invalid value encountered in multiply\n",
      "  \n",
      "C:\\Users\\cape159\\AppData\\Local\\Continuum\\anaconda3\\lib\\site-packages\\ipykernel_launcher.py:8: RuntimeWarning: invalid value encountered in multiply\n",
      "  \n"
     ]
    }
   ],
   "source": [
    "#Certovo aerobni\n",
    "data = d[(d.Soil=='CT') & (d.Status=='A')]\n",
    "data = data.reset_index(drop=True)\n",
    "\n",
    "optimum_CA=differential_evolution(obj_fun, [(0.0001, 1), (0.1, 500), \n",
    "                                            (0.0001, 1), (0.1, 500),\n",
    "                                            (0.0001, 1), (0.05, 0.9), (0.05, 0.9), \n",
    "                                            (0.0001, 1), (0,1)], \n",
    "                                  polish=True, maxiter=1000000)\n",
    "print(optimum_CA)"
   ]
  },
  {
   "cell_type": "code",
   "execution_count": 10,
   "metadata": {},
   "outputs": [
    {
     "name": "stdout",
     "output_type": "stream",
     "text": [
      "[ 0.95924427 -0.73360311 27.46720623]\n"
     ]
    }
   ],
   "source": [
    "print(goodness(optimum_CA.x))\n",
    "np.savetxt('CT_const.csv', optimum_CA.x.reshape(1,9), delimiter=\",\")"
   ]
  },
  {
   "cell_type": "code",
   "execution_count": null,
   "metadata": {},
   "outputs": [],
   "source": []
  }
 ],
 "metadata": {
  "kernelspec": {
   "display_name": "Python 3",
   "language": "python",
   "name": "python3"
  },
  "language_info": {
   "codemirror_mode": {
    "name": "ipython",
    "version": 3
   },
   "file_extension": ".py",
   "mimetype": "text/x-python",
   "name": "python",
   "nbconvert_exporter": "python",
   "pygments_lexer": "ipython3",
   "version": "3.7.3"
  }
 },
 "nbformat": 4,
 "nbformat_minor": 2
}
