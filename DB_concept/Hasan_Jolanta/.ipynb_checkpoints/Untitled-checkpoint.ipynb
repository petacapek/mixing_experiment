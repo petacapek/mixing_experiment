{
 "cells": [
  {
   "cell_type": "code",
   "execution_count": 1,
   "metadata": {},
   "outputs": [],
   "source": [
    "import numpy as np\n",
    "import pandas as pd\n",
    "from scipy.integrate import odeint\n",
    "from scipy.optimize import differential_evolution"
   ]
  },
  {
   "cell_type": "code",
   "execution_count": 2,
   "metadata": {},
   "outputs": [
    {
     "name": "stdout",
     "output_type": "stream",
     "text": [
      "   Soil Status  time          G   Cinit        CO2  Cmicinit      Cmic\n",
      "0    PL      A     0  74.400803  100.52   0.258326  55.08784  55.08784\n",
      "1    PL      A    12  14.442464  100.52  17.948734  55.08784       NaN\n",
      "2    PL      A    24   0.262590  100.52  29.150716  55.08784  64.76910\n",
      "3    PL      A    48   0.236686  100.52  38.031658  55.08784  68.17200\n",
      "4    PL      A    72   0.000000  100.52  43.903544  55.08784  65.72176\n",
      "5    CT      A     0  65.885144   91.54   0.205613  57.29944  57.29944\n",
      "6    CT      A    12  30.535495   91.54   8.386923  57.29944       NaN\n",
      "7    CT      A    24   5.467504   91.54  17.917795  57.29944  66.49810\n",
      "8    CT      A    48   0.206407   91.54  32.098219  57.29944  83.44838\n",
      "9    CT      A    72   0.000000   91.54  35.931863  57.29944  77.85516\n",
      "10   PL      N     0  80.190021  108.34   0.078157  60.43064  60.43064\n",
      "11   PL      N    12  76.480998  108.34   0.936275  60.43064       NaN\n",
      "12   PL      N    24  79.579675  108.34   1.365294  60.43064  67.73158\n",
      "13   PL      N    48  74.227414  108.34   2.363855  60.43064  84.14340\n",
      "14   PL      N   216  47.820428  108.34   6.196169  60.43064  40.50914\n",
      "15   CT      N     0  65.625565   91.13   0.078289  49.19594  49.19594\n",
      "16   CT      N    12  64.186894   91.13   1.140843  49.19594       NaN\n",
      "17   CT      N    24  60.313546   91.13   2.301741  49.19594  28.12000\n",
      "18   CT      N    48  53.562856   91.13   3.448967  49.19594  45.71704\n",
      "19   CT      N   216  27.099574   91.13   9.367147  49.19594  66.00182\n"
     ]
    }
   ],
   "source": [
    "#read data\n",
    "d = pd.read_excel('C:/Users/cape159/Documents/pracovni/data_statistika/kopackuv_grant/michaci_pokus/DB_theory/Hasan_Jolanta/Hasan_Jolanta.xlsx')\n",
    "\n",
    "print(d)"
   ]
  },
  {
   "cell_type": "code",
   "execution_count": 4,
   "metadata": {},
   "outputs": [],
   "source": [
    "#define DB model\n",
    "def DBmodel (y, t, pars):\n",
    "    #define initial states\n",
    "    R=y[0];    S=y[1];    DOC=y[2];   CO2=y[3]\n",
    "        \n",
    "    #define parameters\n",
    "    Ac=pars[0];   Vmax=pars[1];    Km=pars[2]    \n",
    "    m0=pars[3];   f=pars[4];       Yu=pars[5]    \n",
    "    \n",
    "    #carbon uptake rate\n",
    "    Cu=Vmax*S*DOC/(Km+DOC)\n",
    "        \n",
    "    #maintnance\n",
    "    m=m0*S\n",
    "        \n",
    "    #reserves mobilization rate\n",
    "    an=f*R-m\n",
    "    \n",
    "    #respiration rate\n",
    "    r=m+np.maximum(an*(1-Yu), 0)+(1-Ac)*Cu\n",
    "             \n",
    "    #derivatives\n",
    "    dRdt=Ac*Cu-f*R\n",
    "    dSdt=np.maximum(an*Yu, 0)+np.minimum(0, an)\n",
    "    dDOCdt=-Cu\n",
    "    dCO2dt=r\n",
    "            \n",
    "    return dRdt, dSdt, dDOCdt, dCO2dt;"
   ]
  },
  {
   "cell_type": "code",
   "execution_count": 5,
   "metadata": {},
   "outputs": [],
   "source": [
    "#define a function returning ode results with additional calculations\n",
    "def calc (model, pars, t, y0):\n",
    "    #these are the model parameters\n",
    "    pars1=pars[0:6]\n",
    "    \n",
    "    #these are the parameters to recalculate R and S to Cmic\n",
    "    pars2=pars[6:8]\n",
    "    \n",
    "    #first solve the model\n",
    "    y = odeint(model,y0,t, args=(pars1,))\n",
    "    #y = pd.DataFrame(y)\n",
    "    #y.columns = ['R', 'S', 'DOC', 'CO2']\n",
    "    #Cu=pars1[1]*y[:, 1]*y[:, 2]/(y[:, 2]+pars1[2])\n",
    "    \n",
    "    #calculate respiration rates and add it to y frame\n",
    "    #r = y[:, 1]*pars1[3]+np.maximum((pars1[4]*y[:, 0]-y[:, 1]*pars1[3])*(1-pars1[5]), 0)+Cu*(1-pars1[0])\n",
    "    \n",
    "    #calculate Cmic and add it to y frame\n",
    "    Cmic = pars2[0] * y[:, 0] + pars2[1] * y[:, 1]\n",
    "    #y['Cmic'] = Cmic\n",
    "    \n",
    "    yhat = np.concatenate((y[:, 2].reshape(5,1),#G\n",
    "                           y[:, 3].reshape(5,1),#CO2\n",
    "                          Cmic.reshape(5,1)), axis=1)\n",
    "    \n",
    "    return yhat"
   ]
  },
  {
   "cell_type": "code",
   "execution_count": 6,
   "metadata": {},
   "outputs": [],
   "source": [
    "#create the minimization function\n",
    "def obj_fun (x):\n",
    "    #define parameters\n",
    "    pars = x\n",
    "    \n",
    "    #initial conditions\n",
    "    Cmicinit = data.Cmicinit[0]\n",
    "    DOCinit = data.Cinit[0]\n",
    "    Rinit = pars[8]\n",
    "    Sinit = (Cmicinit-Rinit*pars[6])/pars[7]\n",
    "    \n",
    "    \n",
    "    \n",
    "    y0 = np.array([Rinit, Sinit, DOCinit,0])\n",
    "    \n",
    "    #times\n",
    "    t = data.time\n",
    "    \n",
    "    #use the function to get DOC, respiration rate and Cmic\n",
    "    yhat_full = calc(DBmodel, pars[0:8], t, y0)\n",
    "    \n",
    "    #observations\n",
    "    obs=np.concatenate((np.array([data.G]).reshape(5,1),\n",
    "                        np.array([data.CO2]).reshape(5,1),\n",
    "                        np.array([data.Cmic]).reshape(5,1)), \n",
    "                     axis=1)\n",
    "    \n",
    "    #weights\n",
    "    weights=np.concatenate((np.nanmean(data.G).repeat(5).reshape(5,1),\n",
    "                            np.nanmean(data.CO2).repeat(5).reshape(5,1),\n",
    "                            np.nanmean(data.Cmic).repeat(5).reshape(5,1)), \n",
    "                       axis=1)\n",
    "                \n",
    "          \n",
    "    out=np.nansum(((yhat_full-obs)/weights)**2)\n",
    "          \n",
    "    return out"
   ]
  },
  {
   "cell_type": "code",
   "execution_count": null,
   "metadata": {},
   "outputs": [
    {
     "name": "stderr",
     "output_type": "stream",
     "text": [
      "C:\\ProgramData\\Anaconda3\\lib\\site-packages\\scipy\\integrate\\odepack.py:236: ODEintWarning: Excess work done on this call (perhaps wrong Dfun type). Run with full_output = 1 to get quantitative information.\n",
      "  warnings.warn(warning_msg, ODEintWarning)\n"
     ]
    }
   ],
   "source": [
    "#Plesne aerobni\n",
    "data = d[(d.Soil=='PL') & (d.Status=='A')]\n",
    "data = data.reset_index(drop=True)\n",
    "dataCmic = data.Cmicinit[0]\n",
    "\n",
    "optimum_PA=differential_evolution(obj_fun, [(0, 1), (0.0001, 10), (0.1, 100), (0.0001, 1), \n",
    "      (0.0001, 10), (0, 1), (0, 1), (0,1), (dataCmic*0.01, dataCmic*0.99)], polish=True, maxiter=1000000)\n",
    "\n",
    "print(optimum_PA)"
   ]
  },
  {
   "cell_type": "code",
   "execution_count": null,
   "metadata": {},
   "outputs": [],
   "source": [
    "#Certovo aerobni\n",
    "data = d[(d.Soil=='CT') & (d.Status=='A')]\n",
    "data = data.reset_index(drop=True)\n",
    "dataCmic = data.Cmicinit[0]\n",
    "\n",
    "optimum_CA=differential_evolution(obj_fun, [(0, 1), (0.0001, 10), (0.1, 100), (0.0001, 1), \n",
    "      (0.0001, 10), (0, 1), (0, 1), (0,1), (dataCmic*0.01, dataCmic*0.99)], polish=True, maxiter=1000000)\n",
    "\n",
    "print(optimum_CA)"
   ]
  },
  {
   "cell_type": "code",
   "execution_count": null,
   "metadata": {},
   "outputs": [],
   "source": [
    "#Plesne anaerobni\n",
    "data = d[(d.Soil=='PL') & (d.Status=='N')]\n",
    "data = data.reset_index(drop=True)\n",
    "dataCmic = data.Cmicinit[0]\n",
    "\n",
    "optimum_PN=differential_evolution(obj_fun, [(0, 1), (0.0001, 10), (0.1, 100), (0.0001, 1), \n",
    "      (0.0001, 10), (0, 1), (0, 1), (0,1), (dataCmic*0.01, dataCmic*0.99)], polish=True, maxiter=1000000)\n",
    "\n",
    "print(optimum_PN)"
   ]
  },
  {
   "cell_type": "code",
   "execution_count": null,
   "metadata": {},
   "outputs": [],
   "source": [
    "#Certovo anaerobni\n",
    "data = d[(d.Soil=='CT') & (d.Status=='N')]\n",
    "data = data.reset_index(drop=True)\n",
    "dataCmic = data.Cmicinit[0]\n",
    "\n",
    "optimum_CN=differential_evolution(obj_fun, [(0, 1), (0.0001, 10), (0.1, 100), (0.0001, 1), \n",
    "      (0.0001, 10), (0, 1), (0, 1), (0,1), (dataCmic*0.01, dataCmic*0.99)], polish=True, maxiter=1000000)\n",
    "\n",
    "print(optimum_CN)"
   ]
  },
  {
   "cell_type": "code",
   "execution_count": null,
   "metadata": {},
   "outputs": [],
   "source": []
  }
 ],
 "metadata": {
  "kernelspec": {
   "display_name": "Python 3",
   "language": "python",
   "name": "python3"
  },
  "language_info": {
   "codemirror_mode": {
    "name": "ipython",
    "version": 3
   },
   "file_extension": ".py",
   "mimetype": "text/x-python",
   "name": "python",
   "nbconvert_exporter": "python",
   "pygments_lexer": "ipython3",
   "version": "3.6.5"
  }
 },
 "nbformat": 4,
 "nbformat_minor": 2
}
