{
 "cells": [
  {
   "cell_type": "code",
   "execution_count": 1,
   "metadata": {},
   "outputs": [],
   "source": [
    "import numpy as np\n",
    "import pandas as pd\n",
    "from scipy.integrate import odeint\n",
    "from scipy.optimize import differential_evolution"
   ]
  },
  {
   "cell_type": "code",
   "execution_count": 2,
   "metadata": {},
   "outputs": [
    {
     "name": "stdout",
     "output_type": "stream",
     "text": [
      "   Soil Status   time        G12     G12init       G13   G13init      CO212  \\\n",
      "0    PL      A    0.1  72.316839   97.706528  2.022145  2.732098   0.654271   \n",
      "1    PL      A   12.0  14.037931   97.706528  0.392533  2.732098  22.145056   \n",
      "2    PL      A   24.0   0.255235   97.706528  0.007137  2.732098  36.088532   \n",
      "3    PL      A   48.0   0.230056   97.706528  0.006433  2.732098  50.294775   \n",
      "4    PL      A   72.0   0.000000   97.706528  0.000000  2.732098  61.281278   \n",
      "5    CT      A    0.1  64.039704   88.978401  1.790697  2.488040   0.525789   \n",
      "6    CT      A   12.0  29.680197   88.978401  0.829926  2.488040  10.303113   \n",
      "7    CT      A   24.0   5.314360   88.978401  0.148602  2.488040  20.795284   \n",
      "8    CT      A   48.0   0.200626   88.978401  0.005610  2.488040  37.865375   \n",
      "9    CT      A   72.0   0.000000   88.978401  0.000000  2.488040  44.461055   \n",
      "10   PL      N    0.1  77.975327  105.349123  2.148062  2.902155   0.199901   \n",
      "11   PL      N   12.0  74.368740  105.349123  2.048708  2.902155   1.818505   \n",
      "12   PL      N   24.0  77.381838  105.349123  2.131713  2.902155   2.428004   \n",
      "13   PL      N   48.0  72.177396  105.349123  1.988341  2.902155   4.061647   \n",
      "14   PL      N  216.0  46.499720  105.349123  1.280973  2.902155  10.355165   \n",
      "15   CT      N    0.1  63.813114   88.612923  1.757922  2.441106   0.199897   \n",
      "16   CT      N   12.0  62.414175   88.612923  1.719384  2.441106   1.662768   \n",
      "17   CT      N   24.0  58.647803   88.612923  1.615628  2.441106   3.289148   \n",
      "18   CT      N   48.0  52.083553   88.612923  1.434796  2.441106   4.865404   \n",
      "19   CT      N  216.0  19.763352   88.612923  0.544440  2.441106  12.780674   \n",
      "\n",
      "       CO213       DOC12     DOC13  DOC12init  DOC13init     Cmic12    Cmic13  \\\n",
      "0   0.007595         NaN       NaN  17.685684   0.193011        NaN       NaN   \n",
      "1   0.527693         NaN       NaN  17.685684   0.193011        NaN       NaN   \n",
      "2   0.857031   18.282634  0.206784  17.685684   0.193011  63.337611  1.431489   \n",
      "3   1.118131   15.979400  0.179015  17.685684   0.193011  66.765168  1.406832   \n",
      "4   1.290764   16.634707  0.185713  17.685684   0.193011  64.561432  1.160328   \n",
      "5   0.006045         NaN       NaN  16.226099   0.176759        NaN       NaN   \n",
      "6   0.246576         NaN       NaN  16.226099   0.176759        NaN       NaN   \n",
      "7   0.526783   21.552822  0.282269  16.226099   0.176759  65.291317  1.206783   \n",
      "8   0.943688   15.726297  0.174729  16.226099   0.176759  82.364766  1.083614   \n",
      "9   1.056397   15.726963  0.174063  16.226099   0.176759  76.844715  1.010445   \n",
      "10  0.002298         NaN       NaN  52.979226   0.578637        NaN       NaN   \n",
      "11  0.027526         NaN       NaN  52.979226   0.578637        NaN       NaN   \n",
      "12  0.040140  124.729374  2.819942  52.979226   0.578637  66.969353  0.762227   \n",
      "13  0.069497  127.994492  2.845423  52.979226   0.578637  83.371423  0.771977   \n",
      "14  0.182167  153.611823  2.992450  52.979226   0.578637  39.986156  0.522984   \n",
      "15  0.002302         NaN       NaN  23.579715   0.257637        NaN       NaN   \n",
      "16  0.033541         NaN       NaN  23.579715   0.257637        NaN       NaN   \n",
      "17  0.067671  108.019584  2.272151  23.579715   0.257637  27.722588  0.397412   \n",
      "18  0.101400  101.553584  2.047633  23.579715   0.257637  45.052348  0.664692   \n",
      "19  0.275394   85.899354  1.597605  23.579715   0.257637  59.877464  6.124356   \n",
      "\n",
      "    Cmic12init  Cmic13init  \n",
      "0    54.306030    0.781810  \n",
      "1    54.306030    0.781810  \n",
      "2    54.306030    0.781810  \n",
      "3    54.306030    0.781810  \n",
      "4    54.306030    0.781810  \n",
      "5    56.718448    0.580992  \n",
      "6    56.718448    0.580992  \n",
      "7    56.718448    0.580992  \n",
      "8    56.718448    0.580992  \n",
      "9    56.718448    0.580992  \n",
      "10   59.815086    0.615554  \n",
      "11   59.815086    0.615554  \n",
      "12   59.815086    0.615554  \n",
      "13   59.815086    0.615554  \n",
      "14   59.815086    0.615554  \n",
      "15   48.699182    0.496758  \n",
      "16   48.699182    0.496758  \n",
      "17   48.699182    0.496758  \n",
      "18   48.699182    0.496758  \n",
      "19   48.699182    0.496758  \n"
     ]
    }
   ],
   "source": [
    "#read data\n",
    "d = pd.read_excel('C:/Users/cape159/Documents/pracovni/data_statistika/kopackuv_grant/michaci_pokus/DB_theory/Hasan_Jolanta/Hasan_Jolanta.xlsx')\n",
    "\n",
    "print(d)"
   ]
  },
  {
   "cell_type": "code",
   "execution_count": 4,
   "metadata": {},
   "outputs": [],
   "source": [
    "#define DB model\n",
    "def DBmodel (y, t, pars):\n",
    "    #define initial states\n",
    "    R12=y[0];    S12=y[1];    G12=y[2];   DOC12=y[3];   CO212=y[4]\n",
    "    R13=y[5];    S13=y[6];    G13=y[7];   DOC13=y[8];   CO213=y[9]\n",
    "        \n",
    "    #define parameters\n",
    "    Acg=pars[0];   Vmaxg=pars[1];    Kmg=pars[2] \n",
    "    Ac=pars[3];    Vmax=pars[4];     Km=pars[5] \n",
    "    m0=pars[6];    f=pars[7];        Yu=pars[8]    \n",
    "    \n",
    "    #G uptake rate total\n",
    "    Cug_tot=Vmaxg*(S12+S13)*(G12+G13)/(Kmg+G12+G13)\n",
    "    \n",
    "    #DOC uptake rate total\n",
    "    Cu_tot=Vmax*(S12+S13)*(DOC12+DOC13)/(Km+DOC12+DOC13)\n",
    "        \n",
    "    #maintnance rate total\n",
    "    m_tot=m0*(S12+S13)\n",
    "        \n",
    "    #reserves mobilization rate total\n",
    "    an_tot=f*(R12+R13)-m_tot\n",
    "    \n",
    "    #respiration rate 12 C\n",
    "    if an_tot > m_tot:\n",
    "        r12=m_tot*(R12/(R12+R13))+np.maximum(an_tot*(1-Yu)*(R12/(R12+R13)), 0)+(1-Acg)*Cug_tot*(G12/(G12+G13))+(1-Ac)*Cu_tot*(DOC12/(DOC12+DOC13))\n",
    "    else:\n",
    "        r12=((m_tot+an_tot)/m_tot)*(S12/(S12+S13))+(1-(m_tot+an_tot)/m_tot)*(R12/(R12+R13))+np.maximum(an*(1-Yu)*(R12/(R12+R13)), 0)+(1-Acg)*Cug_tot*(G12/(G12+G13))+(1-Ac)*Cu_tot*(DOC12/(DOC12+DOC13))\n",
    "             \n",
    "    #respiration rate 13 C\n",
    "    if an_tot > m_tot:\n",
    "        r13=m_tot*(1-R12/(R12+R13))+np.maximum(an_tot*(1-Yu)*(1-R12/(R12+R13)), 0)+(1-Acg)*Cug_tot*(1-G12/(G12+G13))+(1-Ac)*Cu_tot*(1-DOC12/(DOC12+DOC13))\n",
    "    else:\n",
    "        r13=((m_tot+an_tot)/m_tot)*(1-S12/(S12+S13))+(1-(m_tot+an_tot)/m_tot)*(1-R12/(R12+R13))+np.maximum(an*(1-Yu)*(1-R12/(R12+R13)), 0)+(1-Acg)*Cug_tot*(1-G12/(G12+G13))+(1-Ac)*Cu_tot*(1-DOC12/(DOC12+DOC13))\n",
    "                     \n",
    "            \n",
    "    #derivatives\n",
    "    dR12dt=Acg*Cug_tot*(G12/(G12+G13))+Ac*Cu_tot*(DOC12/(DOC12+DOC13))-f*R12\n",
    "    dS12dt=np.maximum(an_tot*Yu*(R12/(R12+r13)), 0)+np.minimum(0, an_tot*(S12/(S12+S13)))\n",
    "    dDOC12dt=-Cu_tot*(DOC12/(DOC12+DOC13))\n",
    "    dCO212dt=r12\n",
    "    dR13dt=Acg*Cug_tot*(1-G12/(G12+G13))+Ac*Cu_tot*(1-DOC12/(DOC12+DOC13))-f*R13\n",
    "    dS13dt=np.maximum(an_tot*Yu*(1-R12/(R12+r13)), 0)+np.minimum(0, an_tot*(1-S12/(S12+S13)))\n",
    "    dDOC13dt=-Cu_tot*(1-DOC12/(DOC12+DOC13))\n",
    "    dCO213dt=r13\n",
    "            \n",
    "    return dR12dt, dS12dt, dDOC12dt, dCO212dt, dR13dt, dS13dt, dDOC13dt, dCO213dt;"
   ]
  },
  {
   "cell_type": "code",
   "execution_count": 5,
   "metadata": {},
   "outputs": [],
   "source": [
    "#define a function returning ode results with additional calculations\n",
    "def calc (model, pars, t, y0):\n",
    "    #these are the model parameters\n",
    "    pars1=pars[0:6]\n",
    "    \n",
    "    #these are the parameters to recalculate R and S to Cmic\n",
    "    pars2=pars[6:8]\n",
    "    \n",
    "    #first solve the model\n",
    "    y = odeint(model,y0,t, args=(pars1,))\n",
    "    #y = pd.DataFrame(y)\n",
    "    #y.columns = ['R', 'S', 'DOC', 'CO2']\n",
    "    #Cu=pars1[1]*y[:, 1]*y[:, 2]/(y[:, 2]+pars1[2])\n",
    "    \n",
    "    #calculate respiration rates and add it to y frame\n",
    "    #r = y[:, 1]*pars1[3]+np.maximum((pars1[4]*y[:, 0]-y[:, 1]*pars1[3])*(1-pars1[5]), 0)+Cu*(1-pars1[0])\n",
    "    \n",
    "    #calculate Cmic and add it to y frame\n",
    "    Cmic = pars2[0] * y[:, 0] + pars2[1] * y[:, 1]\n",
    "    #y['Cmic'] = Cmic\n",
    "    \n",
    "    yhat = np.concatenate((y[:, 2].reshape(5,1),#G\n",
    "                           y[:, 3].reshape(5,1),#CO2\n",
    "                          Cmic.reshape(5,1)), axis=1)\n",
    "    \n",
    "    return yhat"
   ]
  },
  {
   "cell_type": "code",
   "execution_count": 6,
   "metadata": {},
   "outputs": [],
   "source": [
    "#create the minimization function\n",
    "def obj_fun (x):\n",
    "    #define parameters\n",
    "    pars = x\n",
    "    \n",
    "    #initial conditions\n",
    "    Cmicinit = data.Cmicinit[0]\n",
    "    DOCinit = data.Cinit[0]\n",
    "    Rinit = pars[8]\n",
    "    Sinit = (Cmicinit-Rinit*pars[6])/pars[7]\n",
    "    \n",
    "    \n",
    "    \n",
    "    y0 = np.array([Rinit, Sinit, DOCinit,0])\n",
    "    \n",
    "    #times\n",
    "    t = data.time\n",
    "    \n",
    "    #use the function to get DOC, respiration rate and Cmic\n",
    "    yhat_full = calc(DBmodel, pars[0:8], t, y0)\n",
    "    \n",
    "    #observations\n",
    "    obs=np.concatenate((np.array([data.G]).reshape(5,1),\n",
    "                        np.array([data.CO2]).reshape(5,1),\n",
    "                        np.array([data.Cmic]).reshape(5,1)), \n",
    "                     axis=1)\n",
    "    \n",
    "    #weights\n",
    "    weights=np.concatenate((np.nanmean(data.G).repeat(5).reshape(5,1),\n",
    "                            np.nanmean(data.CO2).repeat(5).reshape(5,1),\n",
    "                            np.nanmean(data.Cmic).repeat(5).reshape(5,1)), \n",
    "                       axis=1)\n",
    "                \n",
    "          \n",
    "    out=np.nansum(((yhat_full-obs)/weights)**2)\n",
    "          \n",
    "    return out"
   ]
  },
  {
   "cell_type": "code",
   "execution_count": 9,
   "metadata": {},
   "outputs": [
    {
     "name": "stderr",
     "output_type": "stream",
     "text": [
      "C:\\ProgramData\\Anaconda3\\lib\\site-packages\\scipy\\integrate\\odepack.py:236: ODEintWarning: Excess work done on this call (perhaps wrong Dfun type). Run with full_output = 1 to get quantitative information.\n",
      "  warnings.warn(warning_msg, ODEintWarning)\n"
     ]
    },
    {
     "name": "stdout",
     "output_type": "stream",
     "text": [
      "     fun: 2.143568913827522\n",
      "     jac: array([ 8.45423287e-02,  5.50333690e-01, -4.12514467e-04, -1.73748811e+01,\n",
      "        6.07975892e-03,  1.46139056e-01, -1.79344983e-02, -1.20065735e-01,\n",
      "       -4.46842563e-04])\n",
      " message: 'Optimization terminated successfully.'\n",
      "    nfev: 10960\n",
      "     nit: 73\n",
      " success: True\n",
      "       x: array([9.99997720e-01, 9.41568473e-02, 8.30854673e+01, 9.18748457e-04,\n",
      "       1.37280617e-01, 7.98988893e-01, 3.16706459e-01, 2.26741192e-01,\n",
      "       3.80597436e+01])\n"
     ]
    },
    {
     "name": "stderr",
     "output_type": "stream",
     "text": [
      "C:\\ProgramData\\Anaconda3\\lib\\site-packages\\ipykernel_launcher.py:10: RuntimeWarning: divide by zero encountered in double_scalars\n",
      "  # Remove the CWD from sys.path while we load stuff.\n",
      "C:\\ProgramData\\Anaconda3\\lib\\site-packages\\scipy\\integrate\\odepack.py:236: ODEintWarning: Illegal input detected (internal error). Run with full_output = 1 to get quantitative information.\n",
      "  warnings.warn(warning_msg, ODEintWarning)\n",
      "C:\\ProgramData\\Anaconda3\\lib\\site-packages\\ipykernel_launcher.py:19: RuntimeWarning: invalid value encountered in multiply\n"
     ]
    }
   ],
   "source": [
    "#Plesne aerobni\n",
    "data = d[(d.Soil=='PL') & (d.Status=='A')]\n",
    "data = data.reset_index(drop=True)\n",
    "dataCmic = data.Cmicinit[0]\n",
    "\n",
    "optimum_PA=differential_evolution(obj_fun, [(0, 1), (0.0001, 10), (0.1, 100), (0.0001, 1), \n",
    "      (0.0001, 10), (0, 1), (0, 1), (0,1), (dataCmic*0.01, dataCmic*0.99)], polish=True, maxiter=1000000)\n",
    "\n",
    "print(optimum_PA)"
   ]
  },
  {
   "cell_type": "code",
   "execution_count": 10,
   "metadata": {},
   "outputs": [
    {
     "name": "stderr",
     "output_type": "stream",
     "text": [
      "C:\\ProgramData\\Anaconda3\\lib\\site-packages\\scipy\\integrate\\odepack.py:236: ODEintWarning: Excess work done on this call (perhaps wrong Dfun type). Run with full_output = 1 to get quantitative information.\n",
      "  warnings.warn(warning_msg, ODEintWarning)\n"
     ]
    },
    {
     "name": "stdout",
     "output_type": "stream",
     "text": [
      "     fun: 1.6801433447844811\n",
      "     jac: array([-1.44528833e-03,  7.12385706e-04, -3.29070104e-05,  5.02684561e-03,\n",
      "       -9.81437154e-06, -8.49276649e-02,  3.77629039e-03,  4.45865567e-05,\n",
      "        4.92939023e-06])\n",
      " message: 'Optimization terminated successfully.'\n",
      "    nfev: 13910\n",
      "     nit: 97\n",
      " success: True\n",
      "       x: array([8.92162193e-01, 6.19713106e-02, 9.28473625e+01, 1.57262651e-03,\n",
      "       4.73532127e+00, 9.99999985e-01, 3.14389139e-01, 2.99282941e-01,\n",
      "       8.62394937e+00])\n"
     ]
    }
   ],
   "source": [
    "#Certovo aerobni\n",
    "data = d[(d.Soil=='CT') & (d.Status=='A')]\n",
    "data = data.reset_index(drop=True)\n",
    "dataCmic = data.Cmicinit[0]\n",
    "\n",
    "optimum_CA=differential_evolution(obj_fun, [(0, 1), (0.0001, 10), (0.1, 100), (0.0001, 1), \n",
    "      (0.0001, 10), (0, 1), (0, 1), (0,1), (dataCmic*0.01, dataCmic*0.99)], polish=True, maxiter=1000000)\n",
    "\n",
    "print(optimum_CA)"
   ]
  },
  {
   "cell_type": "code",
   "execution_count": 11,
   "metadata": {},
   "outputs": [
    {
     "name": "stderr",
     "output_type": "stream",
     "text": [
      "C:\\ProgramData\\Anaconda3\\lib\\site-packages\\scipy\\integrate\\odepack.py:236: ODEintWarning: Excess work done on this call (perhaps wrong Dfun type). Run with full_output = 1 to get quantitative information.\n",
      "  warnings.warn(warning_msg, ODEintWarning)\n"
     ]
    },
    {
     "name": "stdout",
     "output_type": "stream",
     "text": [
      "     fun: 0.9446256161903477\n",
      "     jac: array([-2.45206220e+00,  3.89829280e-03, -2.28772556e-04,  2.26160084e+03,\n",
      "       -1.55764290e-04, -1.35732536e-03,  5.04603026e-02, -9.86103421e-03,\n",
      "       -4.36606307e-04])\n",
      " message: 'Optimization terminated successfully.'\n",
      "    nfev: 20075\n",
      "     nit: 144\n",
      " success: True\n",
      "       x: array([1.00000000e+00, 2.80360205e-03, 9.48775318e+01, 1.00000000e-04,\n",
      "       4.06588753e+00, 9.86396808e-01, 3.71255383e-01, 2.78349422e-01,\n",
      "       5.80764283e+01])\n"
     ]
    }
   ],
   "source": [
    "#Plesne anaerobni\n",
    "data = d[(d.Soil=='PL') & (d.Status=='N')]\n",
    "data = data.reset_index(drop=True)\n",
    "dataCmic = data.Cmicinit[0]\n",
    "\n",
    "optimum_PN=differential_evolution(obj_fun, [(0, 1), (0.0001, 10), (0.1, 100), (0.0001, 1), \n",
    "      (0.0001, 10), (0, 1), (0, 1), (0,1), (dataCmic*0.01, dataCmic*0.99)], polish=True, maxiter=1000000)\n",
    "\n",
    "print(optimum_PN)"
   ]
  },
  {
   "cell_type": "code",
   "execution_count": 12,
   "metadata": {},
   "outputs": [
    {
     "name": "stderr",
     "output_type": "stream",
     "text": [
      "C:\\ProgramData\\Anaconda3\\lib\\site-packages\\scipy\\integrate\\odepack.py:236: ODEintWarning: Excess work done on this call (perhaps wrong Dfun type). Run with full_output = 1 to get quantitative information.\n",
      "  warnings.warn(warning_msg, ODEintWarning)\n"
     ]
    },
    {
     "name": "stdout",
     "output_type": "stream",
     "text": [
      "     fun: 0.6490759757598987\n",
      " message: 'Optimization terminated successfully.'\n",
      "    nfev: 22170\n",
      "     nit: 163\n",
      " success: True\n",
      "       x: array([9.60960080e-01, 3.10406200e-02, 9.69096432e+01, 1.56173133e-04,\n",
      "       6.76618280e+00, 9.85634030e-01, 9.72988787e-01, 4.71400922e-01,\n",
      "       4.71205954e+01])\n"
     ]
    },
    {
     "name": "stderr",
     "output_type": "stream",
     "text": [
      "C:\\ProgramData\\Anaconda3\\lib\\site-packages\\ipykernel_launcher.py:10: RuntimeWarning: divide by zero encountered in double_scalars\n",
      "  # Remove the CWD from sys.path while we load stuff.\n",
      "C:\\ProgramData\\Anaconda3\\lib\\site-packages\\ipykernel_launcher.py:20: RuntimeWarning: invalid value encountered in double_scalars\n",
      "C:\\ProgramData\\Anaconda3\\lib\\site-packages\\scipy\\integrate\\odepack.py:236: ODEintWarning: Excess accuracy requested (tolerances too small). Run with full_output = 1 to get quantitative information.\n",
      "  warnings.warn(warning_msg, ODEintWarning)\n",
      "C:\\ProgramData\\Anaconda3\\lib\\site-packages\\ipykernel_launcher.py:19: RuntimeWarning: invalid value encountered in multiply\n"
     ]
    }
   ],
   "source": [
    "#Certovo anaerobni\n",
    "data = d[(d.Soil=='CT') & (d.Status=='N')]\n",
    "data = data.reset_index(drop=True)\n",
    "dataCmic = data.Cmicinit[0]\n",
    "\n",
    "optimum_CN=differential_evolution(obj_fun, [(0, 1), (0.0001, 10), (0.1, 100), (0.0001, 1), \n",
    "      (0.0001, 10), (0, 1), (0, 1), (0,1), (dataCmic*0.01, dataCmic*0.99)], polish=True, maxiter=1000000)\n",
    "\n",
    "print(optimum_CN)"
   ]
  },
  {
   "cell_type": "code",
   "execution_count": null,
   "metadata": {},
   "outputs": [],
   "source": []
  }
 ],
 "metadata": {
  "kernelspec": {
   "display_name": "Python 3",
   "language": "python",
   "name": "python3"
  },
  "language_info": {
   "codemirror_mode": {
    "name": "ipython",
    "version": 3
   },
   "file_extension": ".py",
   "mimetype": "text/x-python",
   "name": "python",
   "nbconvert_exporter": "python",
   "pygments_lexer": "ipython3",
   "version": "3.6.5"
  }
 },
 "nbformat": 4,
 "nbformat_minor": 2
}
